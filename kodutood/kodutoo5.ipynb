{
 "cells": [
  {
   "cell_type": "markdown",
   "metadata": {},
   "source": [
    "# V Kodutöö\n",
    "\n",
    "## I osa\n",
    "\n",
    "(**21 punkti**) Lahenda praktikumis alustatud andmete veebist kraapimise ülesanded."
   ]
  },
  {
   "cell_type": "markdown",
   "metadata": {},
   "source": [
    "### Sissejuhatus\n",
    "\n",
    "Eva \"Usin\" Masin on esimeses praktikumis kohatud Mati \"Raha\" Masina vastand. Talle meeldib rutiinsus, andmete tuim kopeerimine ja sisestamine. Vabal ajal meeldib talle lugeda romaanisarja \"Tõde ja õigus\" - eelmine nädal luges ta kokku tähekombinatsiooni \"pa\" esinemissageduse. Homme pärast tööd jätkab ta \"pb\" esinemissageduse leidmisega.\n",
    "\n",
    "Õnneks oli eelnev tekst fiktsioon ja Eva-laadsed kopeerijad surid välja koos neandertaallastega. \n",
    "Selles praktikumis vaatame, kuidas R-is ellu äratada tehis-Eva, kes oskab veebilehtedelt automaatselt infot eraldada ja selle transformeerida struktureeritud andmestikuks. \n",
    "\n",
    "Täpsemalt, uurime\n",
    "\n",
    "* kuidas eraldada Riigikogu hääletamistulemusi,\n",
    "* kuidas eraldada Postimehe uudiste pealkirju,\n",
    "* kuidas eraldada ilmajaama vaatlusandmeid,\n",
    "* kuidas lotot mängides rikastuda?\n",
    "\n",
    "![](https://raw.githubusercontent.com/andmeteadus/2021/master/_praktikum5/web/veebi_kraapimise_naide.png \"Näide\")\n",
    "\n",
    "Kaks esimest ülesannet õpetavad paketi *rvest* funktsionaalsust ja annavad sissejuhatuse veebikraapimisse minimalistlike veebilehtede põhjal."
   ]
  },
  {
   "cell_type": "markdown",
   "metadata": {},
   "source": [
    "### Ülesanne 1.1 (2 punkti) - CSS id\n",
    "\n",
    "Eralda [html koodis](../examples/html1.html) sinisena olev tekst muutujasse `tekst`. Kasuta paketti *rvest*. \n",
    "\n",
    "![](https://raw.githubusercontent.com/andmeteadus/2021/master/_praktikum5/web/veebi_kraapimine_ex2.png \"Näide\")\n",
    "\n",
    "* Vastava html koodiga saad mängida [siin](http://www.w3schools.com/html/tryit.asp?filename=tryhtml_css_id).\n",
    "\n",
    "* Loe lühiülevaadet, millest koosnevad veebilehed ja uuri paketi *rvest* minimalistlikku näidet [siit](../praktikum5_rvest_minimal).\n",
    "\n",
    "* Minimalistliku näite põhjal peaksid oskama eraldada lähtekoodis olevad 4 lõiku. Et eraldada lõik, kus id=\"p01\", pead teadma, kuidas CSS-is tähistatakse id-sid.\n",
    "Suur vihje on olemas eelneva html koodi < style > blokis. Abiks võib-olla ka [CSS selektorite interaktiivne testnäide](http://www.w3schools.com/cssref/trysel.asp).\n",
    "\n",
    "* Uuri paketi [*rvest* dokumentatsiooni](http://cran.r-project.org/web/packages/rvest/rvest.pdf). Kasuks tulevad funktsioonid `read_html`, `html_node`, `html_nodes` ja `html_text`.\n",
    "\n",
    "* Lõpptulemus peaks olema selline: `tekst = c(\"I am different.\")`"
   ]
  },
  {
   "cell_type": "code",
   "execution_count": null,
   "metadata": {
    "lines_to_next_cell": 2
   },
   "outputs": [],
   "source": [
    "# Ülesanne 1.1\n",
    "url = \"https://andmeteadus.github.io/2021/examples/html1.html\"\n",
    "\n",
    "# sinu kood"
   ]
  },
  {
   "cell_type": "markdown",
   "metadata": {},
   "source": [
    "* **Boonusülesanne B1.1** (**1 boonuspunkt**) CSS selektorite õppimiseks on tore tutorial http://flukeout.github.io/. Tee läbi esimesed 6 taset ja lisa vastused tekstina alla lahtrisse."
   ]
  },
  {
   "cell_type": "code",
   "execution_count": null,
   "metadata": {},
   "outputs": [],
   "source": [
    "# Boonusülesanne B1.1\n",
    "# sinu kood\n"
   ]
  },
  {
   "cell_type": "markdown",
   "metadata": {},
   "source": [
    "### Ülesanne 1.2 (2 punkti) - CSS class\n",
    "\n",
    "Eralda [html koodis](../examples/html2.html) punaselt olev tekst muutujasse `tekst`. Kasuta paketti *rvest*. \n",
    "\n",
    "![](https://raw.githubusercontent.com/andmeteadus/2021/master/_praktikum5/web/veebi_kraapimine_ex1.png \"Näide\")\n",
    "\n",
    "* Vastava html koodiga saad mängida [siin](http://www.w3schools.com/html/tryit.asp?filename=tryhtml_css_class).\n",
    "\n",
    "* Lõpptulemuse peaks olema selline: `tekst = c(\"I am different.\", \"I am different too.\")`"
   ]
  },
  {
   "cell_type": "code",
   "execution_count": null,
   "metadata": {
    "lines_to_next_cell": 2
   },
   "outputs": [],
   "source": [
    "# Ülesanne 1.2\n",
    "url = \"https://andmeteadus.github.io/2021/examples/html2.html\"\n",
    "\n",
    "# sinu kood"
   ]
  },
  {
   "cell_type": "markdown",
   "metadata": {},
   "source": [
    "### Ülesanne 1.3 (3 punkti)\n",
    "\n",
    ">Margus \"Maru\" Rahvus on aus Eesti mees - ta aretab aias sini-must-valgeid ülaseid; mobiiltelefoni helinaks on tal \"Eestlane olen ja eestlaseks jään\" ja maksud on tal juba 3 aasta jagu ette ära makstud, et ikka kodumaa õitseks. Veebruaris 2021 oli ta pühaviha täis kui sai teada, et [Riigikogus lükkas tagasi eelnõu](https://www.riigikogu.ee/tegevus/tooulevaade/haaletused/haaletustulemused-kohalolekukontroll/905a7f22-99c0-4188-8bb6-0fe9125127a2), mis oleks ometi viinud ta lähemale Eesti Vabariigi presidendi otsevalimisteni. Juba aastaid on ta tahtnud valida selleks oma kalli naise Eevi \"Emakaru\" Rahvuse, et siis uhketel paraadidel ja ballidel kaasas käia, nautida esihärra head elu ja Kadriorus Pätsi pronksbüsti pead paitada.\n",
    ">\n",
    ">Margusel on plaanis kirjutada kiri kõikidele rahvasaadikutele, kes eelnõu vastu hääletasid, et pärida nende otsuse tagamaad. Ta pöördub Eva \"Usin\" Masina poole, kes on _copy-paste_ vallas kibe käpp.\n",
    "\n",
    "Automatiseeri see protsess. Eralda ülal toodud Riigikogu hääletamistulemuste veebilehelt (lähtekoodi nägemiseks paremklikk ja Wiew Page Source), mitu saadikut hääletas Marguse ammuihaldatud eelnõu:\n",
    "\n",
    "* poolt\n",
    "* vastu\n",
    "* oli erapooletu\n",
    "* ei hääletanud\n",
    "\n",
    "> Praktikumis tutvusime, kuidas brauseri veebiarenduse tööriistadega leida üles lähtekoodist vajalikud kohad. Variandid olid: \n",
    "> \n",
    "> * Chrome'is vajuta parem klikk ja \"inspekteeri elementi\". Alernatiivid on klahvikombinatsioon Ctrl + Shift + I või klahv F12. \n",
    "> * vahendiga [selectorgadget](http://selectorgadget.com/)\n",
    "> \n",
    "> Need muudavad lähtekoodis õige klassi, id või sildi leidmise oluliselt lihtsamaks. Mõnes olukorras on kasulikum üks variant, mõnes teine. \n",
    "\n",
    "Vihjed:\n",
    "\n",
    "* Väärtuste eraldamiseks kasuta atribuuti *href*. Uuri, kuidas eraldada atribuute CSS-i õppimise *tutorialist* http://flukeout.github.io/ (alates levelist 27).\n",
    "\n",
    "* Kasutada paketi *stringr* funktsiooni `str_extract()` kui sa ei taha regulaaravaldistega mässata. Vaata näiteks, mida teeb järgmine koodirida `\"Kokku: 101 liiget\" %>% str_extract("\\d+")`"
   ]
  },
  {
   "cell_type": "code",
   "execution_count": null,
   "metadata": {
    "lines_to_next_cell": 2
   },
   "outputs": [],
   "source": [
    "# Ülesanne 1.3\n",
    "url = \"https://www.riigikogu.ee/tegevus/tooulevaade/haaletused/haaletustulemused-kohalolekukontroll/905a7f22-99c0-4188-8bb6-0fe9125127a2\"\n",
    "\n",
    "# sinu kood\n"
   ]
  },
  {
   "cell_type": "markdown",
   "metadata": {},
   "source": [
    "### Ülesanne 1.4 (3 punkti)\n",
    "\n",
    "Eralda eelnõu hääletamistulemuste andmetabel, kus on 101 rida ja tunnused *Nimi*, *Otsus* ja *Fraktsioon*.\n",
    "\n",
    "Vihjed: \n",
    "\n",
    "* kasuta funktsiooni `html_table`,\n",
    "* tabelis veeru *Otsus* puhastamiseks saab kasutada näiteks paketi *stringr* funktsiooni `str_split_fixed()`. \n"
   ]
  },
  {
   "cell_type": "code",
   "execution_count": null,
   "metadata": {},
   "outputs": [],
   "source": [
    "# Ülesanne 1.4\n",
    "# sinu kood\n",
    "  "
   ]
  },
  {
   "cell_type": "markdown",
   "metadata": {},
   "source": [
    "### Ülesanne 1.5 (2 punkti)\n",
    "\n",
    "Visualiseeri, kuidas jaotusid otsused fraktsioonide lõikes."
   ]
  },
  {
   "cell_type": "code",
   "execution_count": null,
   "metadata": {
    "lines_to_next_cell": 2
   },
   "outputs": [],
   "source": [
    "# Ülesanne 1.5\n",
    "# sinu kood\n",
    "  "
   ]
  },
  {
   "cell_type": "markdown",
   "metadata": {},
   "source": [
    "### Ülesanne 1.6 (3 punkti)\n",
    "\n",
    "> Eva \"Usin\" Masin töötab start-upis, mis lubab Eesti turule tuua unikaalse personaalse uudisterakenduse, mis filtreerib uudiseid vastavalt kasutaja soovidele. Eva \"Usin\" Masin pandi koostama andmebaasi Postimehe esilehe uudiste kohta. Eva teab, kuidas karjääriredelis ülespoole ronida: \"Bossi käsu peale olgu uudiste pealkirjad võimalikult kiiresti olemas\".\n",
    "\n",
    "Automatiseeri seesama protsess. Tagasta kõik Postimehe esilehe uudiste pealkirjad (joonisel näidatud kollasega). \n",
    "\n",
    "* Ära kurvasta, kui sa ei saa absoluutselt kõiki pealkirju, 97% on praegu piisav.\n",
    "* Kui sulle ei meeldi Postimehe veebilehe hiiglaslikku lähtekoodi inspekteerida brauseris vaikimisi olevate vahenditega, siis abiks on praktikumis tutvustatud tööriist [selectorgadget](http://selectorgadget.com/).\n",
    "* Vaata, et sinu tagastatud pealkirjade hulgas poleks tühju sõnesid või arve.\n",
    "\n",
    "![](https://raw.githubusercontent.com/andmeteadus/2021/master/_praktikum5/web/postimees_example.png \"Näide\")"
   ]
  },
  {
   "cell_type": "code",
   "execution_count": null,
   "metadata": {},
   "outputs": [],
   "source": [
    "# Ülesanne 1.6\n",
    "url = \"http://www.postimees.ee/\"\n",
    "\n",
    "# sinu kood"
   ]
  },
  {
   "cell_type": "markdown",
   "metadata": {},
   "source": [
    "### Ülesanne 1.7 (3 punkti)\n",
    "\n",
    "> Eva \"Usin\" Masinal on suur huvi ilmaandmete vastu. Kümme minutit pärast iga täistundi märgib ta Ilmateenistuse vaatlusandmeid oma märkmikku, et hiljem analüüsi teha.\n",
    "\n",
    "Automatiseeri seesama protsess. \n",
    "\n",
    "Juhised:\n",
    "\n",
    "* Riigi Ilmateenistus pakub värskeid [ilmaandmeid XML faili kujul](http://www.ilmateenistus.ee/teenused/ilmainfo/eesti-vaatlusandmed-xml/).\n",
    "* Meie tegeleme [Eesti vaatlusandmete XML failiga](http://www.ilmateenistus.ee/ilma_andmed/xml/observations.php).\n",
    "* Saa XML failist kätte iga ilmajaama õhurõhk.\n",
    "* Saa XML failist kätte iga ilmajaama tuule kiirus.\n",
    "* Tee neist õhurõhu ja tuule kiiruse *scatterplot*.\n",
    "\n",
    "Näpunäide:\n",
    "\n",
    "* Uuri paketi [*rvest* minimalistlikku näidet info eraldamisest XML failist](../praktikum5_rvest_minimal/#xml)."
   ]
  },
  {
   "cell_type": "code",
   "execution_count": null,
   "metadata": {},
   "outputs": [],
   "source": [
    "# Ülesanne 1.7\n",
    "# sinu kood\n"
   ]
  },
  {
   "cell_type": "markdown",
   "metadata": {},
   "source": [
    "### Ülesanne 1.8 (3 punkti)\n",
    "\n",
    "> Eva \"Usin\" Masin on lotohuviline, aga ta pole aastaid Viking Lottoga võitnud. Ta arvab, et lototulemused pole päris juhuslikud ning lotos on võimalik statistiline eelis saada.\n",
    "Seepärast märgib ta iga lotokolmapäev Viking Lotto loositud numbrid üles ja uurib, kas number kahtesid loositakse rohkem välja, kui juhus lubaks.\n",
    "\n",
    "1) Õpeta tehis-Eva tegema seda sama.\n",
    "\n",
    "* Eesti Loto veebilehel on toodud [statistika loositud pallide sagedusest](https://www.eestiloto.ee/osi/stats.do?lastDraws=250&gameCode=11&sort=frq0&action=searchNumbers).\n",
    "* Eralda Vikinglotto põhinumbrite tabel, kus veergudes on tunnused *Number*, *Sagedus* ja *Sagedus protsentides*.\n",
    "* selectorgadget võib sind siin alt vedada ning kergem on lähtekoodi inspekteerida brauseris olevate tööriistadega (Chrome's vajuta `Ctrl + Shift + I` või tee parem klikk ja vajuta inspekteeri elementi).\n",
    "* Visualiseeri saadud andmetabelit. Tee näiteks tulpdiagramm, kus x-teljel on arvud 1-48 ning y-telg tähistab sagedust."
   ]
  },
  {
   "cell_type": "code",
   "execution_count": null,
   "metadata": {},
   "outputs": [],
   "source": [
    "# Ülesanne 1.8\n",
    "# sinu kood\n"
   ]
  },
  {
   "cell_type": "markdown",
   "metadata": {},
   "source": [
    "2) (**Boonusülesanne 1.2 (3 punkti)**) Viimase 250 loosiga on pall 35 tulnud 18 korral, pall 2 aga 43 korral. Uuri, kas on alust arvata, et Viking Lotto süsteem on kallutatud. Selleks mõtle välja, kuidas seda kontrollida (näiteks võid kasutada simulatsioonidel põhinevat lähenemist). Selgita lühidalt oma lähenemist ja raporteeri, millise tulemuse said. Visualiseeri saadud tulemust."
   ]
  },
  {
   "cell_type": "code",
   "execution_count": null,
   "metadata": {},
   "outputs": [],
   "source": [
    "# Ülesanne B1.2\n",
    "# sinu kood\n"
   ]
  },
  {
   "cell_type": "markdown",
   "metadata": {},
   "source": [
    "### Boonusülesanne 1.3 (5 punkti) - Kas kõik teed viivad Facebooki? (ehk juhuslik ekslemine veebilehtedel)\n",
    "\n",
    "Alusta suvaliselt veebilehelt. Eralda kõik väljuvad lingid. Vali üks neist linkidest suvaliselt. Hüppa sellele lingile. Kui sellel leheküljel pole ühtegi väljuvat linki, mine tagasi. Kui väljuvaid linke on mitmeid, vali jälle välja suvaline ja hüppa sinna. Kui jõudsid Facebooki, on katse lõppenud. Korda seda protsessi mitu korda ja erinevate alglehtedega. Uuri, mitmel juhul jõudsid FBsse.\n",
    "\n",
    "Näpunäide: Abiks on paketi rvest funktsioon `follow_link()`. \n"
   ]
  },
  {
   "cell_type": "code",
   "execution_count": null,
   "metadata": {},
   "outputs": [],
   "source": [
    "# Ülesanne B1.3\n",
    "# sinu kood\n"
   ]
  },
  {
   "cell_type": "markdown",
   "metadata": {},
   "source": [
    "\n",
    "\n",
    "# II osa\n",
    "\n",
    "Järgmises praktikumis kasutame peakomponentanalüüsi, seetõttu seisneb kodutöö II osa peakomponentanalüüsiga tutvumises. \n",
    "\n",
    "(**2 punkti**) Vaata videot [PCA 1: curse of dimensionality](https://www.youtube.com/watch?v=IbE0tbjy6JQ) \n",
    "\n",
    "* Selgita, mida tähendab, et andmestiku tegelik dimensionaalsus võib olla väiksem kui tunnuste arv andmestikus. Too kaks näidet. \n",
    "\n"
   ]
  },
  {
   "cell_type": "markdown",
   "metadata": {},
   "source": [
    "**<font color='red'>Vastus:</font>** Kirjuta vastus siia."
   ]
  },
  {
   "cell_type": "markdown",
   "metadata": {},
   "source": [
    "(**1 punkt**) Vaata videot [PCA 3: direction of greatest variance](https://www.youtube.com/watch?v=2bV_YQTIJrg) \n",
    "\n",
    "* Kuidas valitakse esimese peakomponendi suund (st millise kriteeriumi järgi valitakse esimene peakomponent)?\n",
    "\n"
   ]
  },
  {
   "cell_type": "markdown",
   "metadata": {},
   "source": [
    "**<font color='red'>Vastus:</font>** Kirjuta vastus siia."
   ]
  },
  {
   "cell_type": "markdown",
   "metadata": {},
   "source": [
    "(**1 punkt**) Vaata Stanfordi masinõppe kursuse videot [Principal Component Analysis Problem Formulation](https://www.youtube.com/watch?v=T-B8muDvzu0)\n",
    "\n",
    "* Mida uut said siit videost teada lisaks eelnevale kahele? Kumb meeldis rohkem? \n",
    "\n"
   ]
  },
  {
   "cell_type": "markdown",
   "metadata": {},
   "source": [
    "**<font color='red'>Vastus:</font>** Kirjuta vastus siia."
   ]
  },
  {
   "cell_type": "markdown",
   "metadata": {},
   "source": [
    "Lisaks võid uurida [Explained Visually: Principal Component Analysis](http://setosa.io/ev/principal-component-analysis/)\n",
    "\n"
   ]
  },
  {
   "cell_type": "markdown",
   "metadata": {},
   "source": [
    "### Projekti teema otsimine (**5 boonuspunkti**)\n",
    "\n",
    "Mõtle välja enda projekti teema ja postita see [Moodle's projekti foorumisse](https://moodle.ut.ee/mod/forum/view.php?id=664413). Kirjuta lühike ülevaade, milles projekt seisneb, kust andmed saad jne. Too välja ka kaasüliõpilaste nimed kellega koos projekti teete. Projekti juhendi leiad [siit](https://andmeteadus.github.io/2021/projekt_juhend/). See \"boonusülesanne\" jääb üles projekti teemade fikseerimise tähtajani (vt. Moodle's või aine kodulehelt).\n"
   ]
  },
  {
   "cell_type": "markdown",
   "metadata": {},
   "source": [
    "## <font color='red'>See oli viimane ülesanne! Palun jooksuta kogu Jupyter Notebook uuesti, et veenduda oma koodi töötamises! (`Kernel -> Restart and Run All`)</font>\n",
    "\n",
    "\n",
    "# Mida on vaja esitada?\n",
    "\n",
    "* I ja II osa kohta tuleb esitada vastustega Jupyter fail.\n",
    "\n",
    "Lahendused esitada [Moodle keskkonna](https://moodle.ut.ee/course/view.php?id=8013#section-1) kaudu.\n"
   ]
  },
  {
   "cell_type": "markdown",
   "metadata": {},
   "source": [
    "\n",
    "## Lahendamise aeg\n",
    "\n",
    "Lisaks võiksid mainida, kui palju aega kulus osa I ja II peale. Mida arvad ülesannetest (kasulikkus, huvitavus)?"
   ]
  },
  {
   "cell_type": "markdown",
   "metadata": {},
   "source": [
    "**<font color='red'>Kodutöö I osa lahendamiseks kulus:</font>** X h\n",
    "\n",
    "**<font color='red'>Kodutöö II osa lahendamiseks kulus:</font>** X h\n",
    "\n",
    "Ülesanded olid ... "
   ]
  },
  {
   "cell_type": "markdown",
   "metadata": {},
   "source": [
    "**Tänan vastamast!**"
   ]
  }
 ],
 "metadata": {
  "jupytext": {
   "cell_metadata_filter": "-all",
   "main_language": "python",
   "notebook_metadata_filter": "-all"
  },
  "kernelspec": {
   "display_name": "R",
   "language": "R",
   "name": "ir"
  },
  "language_info": {
   "codemirror_mode": "r",
   "file_extension": ".r",
   "mimetype": "text/x-r-source",
   "name": "R",
   "pygments_lexer": "r",
   "version": "4.0.4"
  }
 },
 "nbformat": 4,
 "nbformat_minor": 4
}
